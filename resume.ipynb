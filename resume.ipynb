{
 "cells": [
  {
   "cell_type": "code",
   "execution_count": 2,
   "id": "1c8a44ef",
   "metadata": {},
   "outputs": [
    {
     "name": "stderr",
     "output_type": "stream",
     "text": [
      "[nltk_data] Downloading package stopwords to\n",
      "[nltk_data]     C:\\Users\\91720\\AppData\\Roaming\\nltk_data...\n",
      "[nltk_data]   Package stopwords is already up-to-date!\n",
      "[nltk_data] Downloading package wordnet to\n",
      "[nltk_data]     C:\\Users\\91720\\AppData\\Roaming\\nltk_data...\n",
      "[nltk_data]   Package wordnet is already up-to-date!\n"
     ]
    },
    {
     "name": "stdout",
     "output_type": "stream",
     "text": [
      "✅ Logistic Regression Accuracy: 0.9948186528497409\n",
      "\n",
      "✅ Predicted Resume Category: Arts\n"
     ]
    }
   ],
   "source": [
    "import pandas as pd\n",
    "import numpy as np\n",
    "import re\n",
    "import nltk\n",
    "import spacy\n",
    "from sklearn.model_selection import train_test_split\n",
    "from sklearn.feature_extraction.text import TfidfVectorizer\n",
    "from sklearn.linear_model import LogisticRegression\n",
    "from sklearn.preprocessing import LabelEncoder\n",
    "from sklearn.metrics import accuracy_score\n",
    "import warnings\n",
    "warnings.filterwarnings(\"ignore\")\n",
    "\n",
    "# Download resources\n",
    "nltk.download('stopwords')\n",
    "nltk.download('wordnet')\n",
    "\n",
    "stop_words = set(nltk.corpus.stopwords.words('english'))\n",
    "lemmatizer = nltk.stem.WordNetLemmatizer()\n",
    "nlp = spacy.load(\"en_core_web_sm\")\n",
    "\n",
    "# Read dataset\n",
    "df = pd.read_csv(r\"C:\\Users\\91720\\OneDrive\\Desktop\\jupyter porjects\\archive (3)\\UpdatedResumeDataSet.csv\")\n",
    "df.dropna(inplace=True)\n",
    "\n",
    "# Text cleaning\n",
    "def clean_text(text):\n",
    "    text = re.sub(r\"http\\S+\", \"\", text)\n",
    "    text = re.sub(r\"\\W\", \" \", text)\n",
    "    text = re.sub(r\"\\s+\", \" \", text)\n",
    "    text = text.lower()\n",
    "    tokens = [lemmatizer.lemmatize(word) for word in text.split() if word not in stop_words and len(word) > 2]\n",
    "    return \" \".join(tokens)\n",
    "\n",
    "df['Cleaned'] = df['Resume'].apply(clean_text)\n",
    "\n",
    "# Encode target\n",
    "le = LabelEncoder()\n",
    "df['Label'] = le.fit_transform(df['Category'])\n",
    "\n",
    "# Split data\n",
    "X_train, X_test, y_train, y_test = train_test_split(df['Cleaned'], df['Label'], test_size=0.2, stratify=df['Label'], random_state=42)\n",
    "\n",
    "# Vectorization\n",
    "vectorizer = TfidfVectorizer(ngram_range=(1, 2), max_features=15000)\n",
    "X_train_vec = vectorizer.fit_transform(X_train)\n",
    "X_test_vec = vectorizer.transform(X_test)\n",
    "\n",
    "# Model\n",
    "model = LogisticRegression(max_iter=1000, class_weight='balanced')\n",
    "model.fit(X_train_vec, y_train)\n",
    "y_pred = model.predict(X_test_vec)\n",
    "\n",
    "print(\"✅ Logistic Regression Accuracy:\", accuracy_score(y_test, y_pred))\n",
    "\n",
    "# # Try with your own input\n",
    "# sample_resume = \"\"\"3 years of experience in backend development using Django, Flask. \n",
    "# Worked on SQL database integration, REST API design, and deployment on AWS. \n",
    "# Skilled in Python, Java, and version control systems like Git.\"\"\"\n",
    "\n",
    "# sample_cleaned = clean_text(sample_resume)\n",
    "# sample_vec = vectorizer.transform([sample_cleaned])\n",
    "# predicted = model.predict(sample_vec)\n",
    "# label = le.inverse_transform(predicted)[0]\n",
    "\n",
    "# print(\"\\n✅ Predicted Category:\", label)\n",
    "\n",
    "resume_input = input(\"Paste your resume here:\\n\")\n",
    "cleaned_input = clean_text(resume_input)\n",
    "vector_input = vectorizer.transform([cleaned_input])\n",
    "predicted_label = model.predict(vector_input)[0]\n",
    "predicted_category = le.inverse_transform([predicted_label])[0]\n",
    "\n",
    "print(\"\\n✅ Predicted Resume Category:\", predicted_category)\n",
    "\n"
   ]
  }
 ],
 "metadata": {
  "kernelspec": {
   "display_name": "Python 3",
   "language": "python",
   "name": "python3"
  },
  "language_info": {
   "codemirror_mode": {
    "name": "ipython",
    "version": 3
   },
   "file_extension": ".py",
   "mimetype": "text/x-python",
   "name": "python",
   "nbconvert_exporter": "python",
   "pygments_lexer": "ipython3",
   "version": "3.11.9"
  }
 },
 "nbformat": 4,
 "nbformat_minor": 5
}
